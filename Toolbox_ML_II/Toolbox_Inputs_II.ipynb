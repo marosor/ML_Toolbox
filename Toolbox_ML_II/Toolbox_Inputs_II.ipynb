{
 "cells": [
  {
   "cell_type": "markdown",
   "metadata": {},
   "source": [
    "![Texto alternativo](img/Toolbox_ML_Banner_3.png)"
   ]
  },
  {
   "cell_type": "markdown",
   "metadata": {},
   "source": [
    "## Imports"
   ]
  },
  {
   "cell_type": "code",
   "execution_count": 1,
   "metadata": {},
   "outputs": [],
   "source": [
    "import warnings\n",
    "warnings.filterwarnings(\"ignore\")\n",
    "\n",
    "from Toolbox_ML_II import *\n",
    "\n",
    "from sklearn.linear_model import LogisticRegression\n",
    "from sklearn.model_selection import train_test_split"
   ]
  },
  {
   "cell_type": "markdown",
   "metadata": {},
   "source": [
    "## Data"
   ]
  },
  {
   "cell_type": "markdown",
   "metadata": {},
   "source": [
    "#### Titanic"
   ]
  },
  {
   "cell_type": "code",
   "execution_count": 2,
   "metadata": {},
   "outputs": [],
   "source": [
    "# Cargar dataframe\n",
    "titanic = pd.read_csv(\"./data/titanic.csv\")\n",
    "\n",
    "# Transformar a binaria la columna \"alive\"\n",
    "titanic[\"alive\"] = titanic[\"alive\"].map({\"yes\" : 1, \"no\" : 0})\n",
    "\n",
    "# Transformar variables categóricas\n",
    "titanic = pd.get_dummies(titanic, columns = [\"sex\", \"class\", \"who\", \"embark_town\"], drop_first = True)\n",
    "\n",
    "# Seleccionar X e y\n",
    "X_titanic = titanic.drop(columns = [\"alive\"])\n",
    "y_titanic = titanic[\"alive\"]\n",
    "\n",
    "# Dividir en train y test\n",
    "X_train_titanic, X_test_titanic, y_train_titanic, y_test_titanic = train_test_split(X_titanic, y_titanic, test_size = 0.2, random_state = 42)\n",
    "\n",
    "# Entrenar el modelo\n",
    "model_titanic = LogisticRegression(max_iter = 1000)\n",
    "model_titanic.fit(X_train_titanic, y_train_titanic)\n",
    "\n",
    "# Hacer predicciones\n",
    "predicciones_titanic = model_titanic.predict(X_test_titanic)"
   ]
  },
  {
   "cell_type": "markdown",
   "metadata": {},
   "source": [
    "## Función | eval_model"
   ]
  },
  {
   "cell_type": "code",
   "execution_count": 3,
   "metadata": {},
   "outputs": [
    {
     "name": "stdout",
     "output_type": "stream",
     "text": [
      "Accuracy: 0.8100558659217877\n",
      "Precision: 0.8069687334393216\n",
      "Recall: 0.7981981981981983\n",
      "Classification Report:\n",
      "              precision    recall  f1-score   support\n",
      "\n",
      "           0       0.82      0.87      0.84       105\n",
      "           1       0.79      0.73      0.76        74\n",
      "\n",
      "    accuracy                           0.81       179\n",
      "   macro avg       0.81      0.80      0.80       179\n",
      "weighted avg       0.81      0.81      0.81       179\n",
      "\n",
      "Confusion Matrix (Absolute Values):\n",
      "[[91 14]\n",
      " [20 54]]\n",
      "(0.8100558659217877, 0.8069687334393216, 0.7981981981981983)\n"
     ]
    }
   ],
   "source": [
    "metricas = [\"ACCURACY\", \"PRECISION\", \"RECALL\", \"CLASS_REPORT\", \"MATRIX\"]\n",
    "\n",
    "resultados = eval_model(y_test_titanic, predicciones_titanic, \"clasificacion\", metricas)\n",
    "print(resultados)"
   ]
  },
  {
   "cell_type": "markdown",
   "metadata": {},
   "source": [
    "## Función | get_features_num_classification"
   ]
  },
  {
   "cell_type": "code",
   "execution_count": null,
   "metadata": {},
   "outputs": [],
   "source": []
  },
  {
   "cell_type": "markdown",
   "metadata": {},
   "source": [
    "## Función | plot_features_num_classification"
   ]
  },
  {
   "cell_type": "code",
   "execution_count": null,
   "metadata": {},
   "outputs": [],
   "source": []
  },
  {
   "cell_type": "markdown",
   "metadata": {},
   "source": [
    "## Función | get_features_cat_classification"
   ]
  },
  {
   "cell_type": "code",
   "execution_count": null,
   "metadata": {},
   "outputs": [],
   "source": []
  },
  {
   "cell_type": "markdown",
   "metadata": {},
   "source": [
    "## Función | plot_features_cat_classification"
   ]
  },
  {
   "cell_type": "code",
   "execution_count": null,
   "metadata": {},
   "outputs": [],
   "source": []
  },
  {
   "cell_type": "markdown",
   "metadata": {},
   "source": [
    "## Función | super_selector"
   ]
  },
  {
   "cell_type": "code",
   "execution_count": null,
   "metadata": {},
   "outputs": [],
   "source": []
  }
 ],
 "metadata": {
  "kernelspec": {
   "display_name": "Python 3",
   "language": "python",
   "name": "python3"
  },
  "language_info": {
   "codemirror_mode": {
    "name": "ipython",
    "version": 3
   },
   "file_extension": ".py",
   "mimetype": "text/x-python",
   "name": "python",
   "nbconvert_exporter": "python",
   "pygments_lexer": "ipython3",
   "version": "3.10.11"
  }
 },
 "nbformat": 4,
 "nbformat_minor": 2
}
